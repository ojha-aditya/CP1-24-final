{
 "cells": [
  {
   "cell_type": "code",
   "execution_count": 1,
   "metadata": {},
   "outputs": [],
   "source": [
    "import final"
   ]
  },
  {
   "cell_type": "code",
   "execution_count": 2,
   "metadata": {},
   "outputs": [
    {
     "data": {
      "text/plain": [
       "'32'"
      ]
     },
     "execution_count": 2,
     "metadata": {},
     "output_type": "execute_result"
    }
   ],
   "source": [
    "final.read_temperature(\"/workspaces/CP1-24-final/OA003_sinewalk.md\")"
   ]
  },
  {
   "cell_type": "code",
   "execution_count": 3,
   "metadata": {},
   "outputs": [
    {
     "data": {
      "text/plain": [
       "['OA008_sinewalk.md',\n",
       " 'OA017_sinewalk.md',\n",
       " 'OA007_sinewalk.md',\n",
       " 'OA012_sinewalk.md',\n",
       " 'OA010_sinewalk.md',\n",
       " 'OA020_sinewalk.md',\n",
       " 'OA014_sinewalk.md',\n",
       " 'OA003_sinewalk.md',\n",
       " 'OA019_sinewalk.md',\n",
       " 'OA018_sinewalk.md',\n",
       " 'OA015_sinewalk.md',\n",
       " 'OA009_sinewalk.md',\n",
       " 'OA016_sinewalk.md',\n",
       " 'OA011_sinewalk.md',\n",
       " 'OA005_sinewalk.md',\n",
       " 'OA006_sinewalk.md',\n",
       " 'OA013_sinewalk.md',\n",
       " 'OA001_sinewalktrial.md',\n",
       " 'OA002_sinewalktrial.md',\n",
       " 'OA004_sinewalk.md',\n",
       " 'OA002_sinewalk.md',\n",
       " 'OA001_sinewalk.md']"
      ]
     },
     "execution_count": 3,
     "metadata": {},
     "output_type": "execute_result"
    }
   ],
   "source": [
    "final.filename_lister('/workspaces/CP1-24-final', 'sinewalk', '.md')"
   ]
  },
  {
   "cell_type": "code",
   "execution_count": null,
   "metadata": {},
   "outputs": [],
   "source": []
  }
 ],
 "metadata": {
  "kernelspec": {
   "display_name": "Python 3",
   "language": "python",
   "name": "python3"
  },
  "language_info": {
   "codemirror_mode": {
    "name": "ipython",
    "version": 3
   },
   "file_extension": ".py",
   "mimetype": "text/x-python",
   "name": "python",
   "nbconvert_exporter": "python",
   "pygments_lexer": "ipython3",
   "version": "3.12.1"
  }
 },
 "nbformat": 4,
 "nbformat_minor": 2
}
