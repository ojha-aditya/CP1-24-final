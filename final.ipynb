{
 "cells": [
  {
   "cell_type": "code",
   "execution_count": 1,
   "metadata": {},
   "outputs": [],
   "source": [
    "import final\n",
    "import numpy as np"
   ]
  },
  {
   "cell_type": "code",
   "execution_count": 2,
   "metadata": {},
   "outputs": [
    {
     "data": {
      "text/plain": [
       "'33'"
      ]
     },
     "execution_count": 2,
     "metadata": {},
     "output_type": "execute_result"
    }
   ],
   "source": [
    "final.read_temperature(\"/workspaces/CP1-24-final/OA002_sinewalktrial.md\")"
   ]
  },
  {
   "cell_type": "code",
   "execution_count": 3,
   "metadata": {},
   "outputs": [
    {
     "data": {
      "text/plain": [
       "['OA001_sinewalktrial.md', 'OA002_sinewalktrial.md']"
      ]
     },
     "execution_count": 3,
     "metadata": {},
     "output_type": "execute_result"
    }
   ],
   "source": [
    "final.filename_lister('/workspaces/CP1-24-final', 'sinewalktrial', '.md')"
   ]
  },
  {
   "cell_type": "code",
   "execution_count": 4,
   "metadata": {},
   "outputs": [
    {
     "data": {
      "text/plain": [
       "(array([-8761185.94823218, -8761169.18003461, -8761169.18003461,\n",
       "        -8761168.43836433, -8761168.62405989]),\n",
       " array([5306383.6854801 , 5306371.29832689, 5306371.29832689,\n",
       "        5306370.79201546, 5306370.79201546]))"
      ]
     },
     "execution_count": 4,
     "metadata": {},
     "output_type": "execute_result"
    }
   ],
   "source": [
    "final.get_coordinates('/workspaces/CP1-24-final/OA001_sinewalktrial.csv')"
   ]
  },
  {
   "cell_type": "code",
   "execution_count": 8,
   "metadata": {},
   "outputs": [
    {
     "data": {
      "text/plain": [
       "(array([4.24510183e+07 +0.j        , 7.33510844e+00-17.63326524j,\n",
       "        7.31306734e+00 -7.28189651j, 7.29102623e+00 -3.00713057j,\n",
       "        7.28189651e+00 +0.j        , 7.29102623e+00 +3.00713057j,\n",
       "        7.31306734e+00 +7.28189651j, 7.33510844e+00+17.63326524j]),\n",
       " [np.float64(0.0),\n",
       "  np.float64(5.050746353354533),\n",
       "  np.float64(10.101492706709067),\n",
       "  np.float64(15.152239060063598),\n",
       "  np.float64(20.202985413418133),\n",
       "  np.float64(25.253731766772663),\n",
       "  np.float64(30.304478120127197),\n",
       "  np.float64(35.355224473481734)])"
      ]
     },
     "execution_count": 8,
     "metadata": {},
     "output_type": "execute_result"
    }
   ],
   "source": [
    "final.numpy_wrapper_fft(np.array([-8761185.94823218, -8761169.18003461, -8761169.18003461,\n",
    "        -8761168.43836433, -8761168.62405989]), np.array([5306383.6854801 , 5306371.29832689, 5306371.29832689,\n",
    "        5306370.79201546, 5306370.79201546]), 3)"
   ]
  },
  {
   "cell_type": "code",
   "execution_count": 5,
   "metadata": {},
   "outputs": [
    {
     "data": {
      "text/plain": [
       "(array([ 0.        , 16.76819757, 16.76819757, 17.50986785, 17.32417229]),\n",
       " array([  0.        , -12.38715321, -12.38715321, -12.89346464,\n",
       "        -12.89346464]))"
      ]
     },
     "execution_count": 5,
     "metadata": {},
     "output_type": "execute_result"
    }
   ],
   "source": [
    "final.shift_coordinates(np.array([-8761185.94823218, -8761169.18003461, -8761169.18003461,\n",
    "        -8761168.43836433, -8761168.62405989]),\n",
    " np.array([5306383.6854801 , 5306371.29832689, 5306371.29832689,\n",
    "        5306370.79201546, 5306370.79201546]))"
   ]
  },
  {
   "cell_type": "code",
   "execution_count": 6,
   "metadata": {},
   "outputs": [
    {
     "data": {
      "text/plain": [
       "(array([ 0.        ,  2.47488176,  4.94976351,  7.42464527,  9.89952702,\n",
       "        12.37440878, 14.84929053, 17.32417229]),\n",
       " array([  0.        ,  -1.82826683,  -3.65653367,  -5.4848005 ,\n",
       "         -7.31306734,  -9.14133417, -10.969601  , -12.76669701]))"
      ]
     },
     "execution_count": 6,
     "metadata": {},
     "output_type": "execute_result"
    }
   ],
   "source": [
    "final.resample_data(np.array([ 0.        , 16.76819757, 16.76819757, 17.50986785, 17.32417229]), np.array([  0.        , -12.38715321, -12.38715321, -12.89346464,\n",
    "        -12.89346464]), 3)"
   ]
  },
  {
   "cell_type": "code",
   "execution_count": 7,
   "metadata": {},
   "outputs": [
    {
     "data": {
      "text/plain": [
       "[0.0,\n",
       " 5.050746343534408,\n",
       " 10.101492687068816,\n",
       " 15.152239030603223,\n",
       " 20.202985374137633,\n",
       " 25.25373171767204,\n",
       " 30.304478061206446,\n",
       " 35.35522440474085]"
      ]
     },
     "execution_count": 7,
     "metadata": {},
     "output_type": "execute_result"
    }
   ],
   "source": [
    "final.get_frequency_axis([ 0.        ,  2.47488176,  4.94976351,  7.42464527,  9.89952702,\n",
    "        12.37440878, 14.84929053, 17.32417229], 1/100)"
   ]
  },
  {
   "cell_type": "code",
   "execution_count": 11,
   "metadata": {},
   "outputs": [
    {
     "data": {
      "text/plain": [
       "array([5306383.68253757+0.j, 5306381.85427073+0.j, 5306380.0260039 +0.j,\n",
       "       5306378.19773706+0.j, 5306376.36947023+0.j, 5306374.54120339+0.j,\n",
       "       5306372.71293656+0.j, 5306370.91584055+0.j])"
      ]
     },
     "execution_count": 11,
     "metadata": {},
     "output_type": "execute_result"
    }
   ],
   "source": [
    "final.numpy_wrapper_ifft([4.24510183e+07 +0.j        , 7.33510844e+00-17.63326524j,\n",
    "        7.31306734e+00 -7.28189651j, 7.29102623e+00 -3.00713057j,\n",
    "        7.28189651e+00 +0.j        , 7.29102623e+00 +3.00713057j,\n",
    "        7.31306734e+00 +7.28189651j, 7.33510844e+00+17.63326524j])"
   ]
  },
  {
   "cell_type": "code",
   "execution_count": null,
   "metadata": {},
   "outputs": [],
   "source": []
  }
 ],
 "metadata": {
  "kernelspec": {
   "display_name": "Python 3",
   "language": "python",
   "name": "python3"
  },
  "language_info": {
   "codemirror_mode": {
    "name": "ipython",
    "version": 3
   },
   "file_extension": ".py",
   "mimetype": "text/x-python",
   "name": "python",
   "nbconvert_exporter": "python",
   "pygments_lexer": "ipython3",
   "version": "3.12.1"
  }
 },
 "nbformat": 4,
 "nbformat_minor": 2
}
